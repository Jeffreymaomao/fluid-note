{
 "cells": [
  {
   "cell_type": "code",
   "execution_count": 1,
   "id": "96ff8d7d-bf5d-4bc0-8807-b172247183bd",
   "metadata": {},
   "outputs": [],
   "source": [
    "def eps(i,j,k):\n",
    "    return (-i+j)*(-i+k)*(-j+k)/2\n",
    "def eps_str(i,j,k):\n",
    "    return r\"\\varepsilon_{\"+str(i)+\",\"+str(j)+\",\"+str(k)+\"}\"\n",
    "def e_str(i):\n",
    "    return r\"\\hat{e}_{%d}\"%(int(i))"
   ]
  },
  {
   "cell_type": "code",
   "execution_count": 7,
   "id": "ec57bb45-9c6a-4b05-8a5c-7b7263225097",
   "metadata": {},
   "outputs": [
    {
     "data": {
      "text/plain": [
       "('\\\\varepsilon_{1,2,3}', '\\\\hat{e}_{1}')"
      ]
     },
     "execution_count": 7,
     "metadata": {},
     "output_type": "execute_result"
    }
   ],
   "source": [
    "eps_str(1,2,3), e_str(1)"
   ]
  },
  {
   "cell_type": "code",
   "execution_count": 18,
   "id": "5a2d311b-6e73-4a8a-a076-b521b871d74a",
   "metadata": {},
   "outputs": [
    {
     "name": "stdout",
     "output_type": "stream",
     "text": [
      "\\hat{e}_{1}\\times\\hat{e}_{1} &= \\sum_{i=1}^{3}\\varepsilon_{i,1,1}\n",
      "= \\varepsilon_{1,1,1}\\hat{e}_{1}+\\varepsilon_{2,1,1}\\hat{e}_{2}+\\varepsilon_{3,1,1}\\hat{e}_{3}\n",
      "= 0\\\\\n",
      "\\hat{e}_{1}\\times\\hat{e}_{2} &= \\sum_{i=1}^{3}\\varepsilon_{i,1,2}\n",
      "= \\varepsilon_{1,1,2}\\hat{e}_{1}+\\varepsilon_{2,1,2}\\hat{e}_{2}+\\varepsilon_{3,1,2}\\hat{e}_{3}\n",
      "= 1\\hat{e}_{3}\\\\\n",
      "\\hat{e}_{1}\\times\\hat{e}_{3} &= \\sum_{i=1}^{3}\\varepsilon_{i,1,3}\n",
      "= \\varepsilon_{1,1,3}\\hat{e}_{1}+\\varepsilon_{2,1,3}\\hat{e}_{2}+\\varepsilon_{3,1,3}\\hat{e}_{3}\n",
      "= -1\\hat{e}_{2}\\\\\n",
      "\\hat{e}_{2}\\times\\hat{e}_{1} &= \\sum_{i=1}^{3}\\varepsilon_{i,2,1}\n",
      "= \\varepsilon_{1,2,1}\\hat{e}_{1}+\\varepsilon_{2,2,1}\\hat{e}_{2}+\\varepsilon_{3,2,1}\\hat{e}_{3}\n",
      "= -1\\hat{e}_{3}\\\\\n",
      "\\hat{e}_{2}\\times\\hat{e}_{2} &= \\sum_{i=1}^{3}\\varepsilon_{i,2,2}\n",
      "= \\varepsilon_{1,2,2}\\hat{e}_{1}+\\varepsilon_{2,2,2}\\hat{e}_{2}+\\varepsilon_{3,2,2}\\hat{e}_{3}\n",
      "= 0\\\\\n",
      "\\hat{e}_{2}\\times\\hat{e}_{3} &= \\sum_{i=1}^{3}\\varepsilon_{i,2,3}\n",
      "= \\varepsilon_{1,2,3}\\hat{e}_{1}+\\varepsilon_{2,2,3}\\hat{e}_{2}+\\varepsilon_{3,2,3}\\hat{e}_{3}\n",
      "= 1\\hat{e}_{1}\\\\\n",
      "\\hat{e}_{3}\\times\\hat{e}_{1} &= \\sum_{i=1}^{3}\\varepsilon_{i,3,1}\n",
      "= \\varepsilon_{1,3,1}\\hat{e}_{1}+\\varepsilon_{2,3,1}\\hat{e}_{2}+\\varepsilon_{3,3,1}\\hat{e}_{3}\n",
      "= 1\\hat{e}_{2}\\\\\n",
      "\\hat{e}_{3}\\times\\hat{e}_{2} &= \\sum_{i=1}^{3}\\varepsilon_{i,3,2}\n",
      "= \\varepsilon_{1,3,2}\\hat{e}_{1}+\\varepsilon_{2,3,2}\\hat{e}_{2}+\\varepsilon_{3,3,2}\\hat{e}_{3}\n",
      "= -1\\hat{e}_{1}\\\\\n",
      "\\hat{e}_{3}\\times\\hat{e}_{3} &= \\sum_{i=1}^{3}\\varepsilon_{i,3,3}\n",
      "= \\varepsilon_{1,3,3}\\hat{e}_{1}+\\varepsilon_{2,3,3}\\hat{e}_{2}+\\varepsilon_{3,3,3}\\hat{e}_{3}\n",
      "= 0\\\\\n"
     ]
    }
   ],
   "source": [
    "for j in range(1,4):\n",
    "    for k in range(1,4):\n",
    "        s = \"\"\n",
    "        s += e_str(j) + \"\\\\times\" + e_str(k) \n",
    "        s += \" &= \\\\sum_{i=1}^{3}\" + eps_str(\"i\",j,k)\n",
    "        s += \"\\n= \" + eps_str(1,j,k)+e_str(1)+ \"+\" + eps_str(2,j,k)+e_str(2) + \"+\" + eps_str(3,j,k)+e_str(3)\n",
    "        s += \"\\n= \" + str(int(eps(1,j,k) + eps(2,j,k) + eps(3,j,k)))\n",
    "        for i in range(1,4): \n",
    "            if(eps(i,j,k)): s+= e_str(i)\n",
    "        s += \"\\\\\\\\\"\n",
    "        print(s)"
   ]
  }
 ],
 "metadata": {
  "kernelspec": {
   "display_name": "Python 3 (ipykernel)",
   "language": "python",
   "name": "python3"
  },
  "language_info": {
   "codemirror_mode": {
    "name": "ipython",
    "version": 3
   },
   "file_extension": ".py",
   "mimetype": "text/x-python",
   "name": "python",
   "nbconvert_exporter": "python",
   "pygments_lexer": "ipython3",
   "version": "3.9.6"
  }
 },
 "nbformat": 4,
 "nbformat_minor": 5
}
