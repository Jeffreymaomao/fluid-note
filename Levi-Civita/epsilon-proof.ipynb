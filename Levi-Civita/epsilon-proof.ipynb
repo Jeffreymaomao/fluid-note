{
 "cells": [
  {
   "cell_type": "code",
   "execution_count": 21,
   "id": "5ef799fc-2dca-4a3f-94f6-cc322822e356",
   "metadata": {},
   "outputs": [],
   "source": [
    "def eps(i,j,k):\n",
    "    return (-i+j)*(-i+k)*(-j+k)/2"
   ]
  },
  {
   "cell_type": "code",
   "execution_count": 25,
   "id": "e9e76d5a-b6f9-4407-b176-bbc6cf1cf809",
   "metadata": {},
   "outputs": [
    {
     "name": "stdout",
     "output_type": "stream",
     "text": [
      "(1, 1, 1) : 0\n",
      "(1, 1, 2) : 0\n",
      "(1, 1, 3) : 0\n",
      "(1, 2, 1) : 0\n",
      "(1, 2, 2) : 0\n",
      "(1, 2, 3) : 1\n",
      "(1, 3, 1) : 0\n",
      "(1, 3, 2) : -1\n",
      "(1, 3, 3) : 0\n",
      "(2, 1, 1) : 0\n",
      "(2, 1, 2) : 0\n",
      "(2, 1, 3) : -1\n",
      "(2, 2, 1) : 0\n",
      "(2, 2, 2) : 0\n",
      "(2, 2, 3) : 0\n",
      "(2, 3, 1) : 1\n",
      "(2, 3, 2) : 0\n",
      "(2, 3, 3) : 0\n",
      "(3, 1, 1) : 0\n",
      "(3, 1, 2) : 1\n",
      "(3, 1, 3) : 0\n",
      "(3, 2, 1) : -1\n",
      "(3, 2, 2) : 0\n",
      "(3, 2, 3) : 0\n",
      "(3, 3, 1) : 0\n",
      "(3, 3, 2) : 0\n",
      "(3, 3, 3) : 0\n"
     ]
    }
   ],
   "source": [
    "for i in range(1,4):\n",
    "    for j in range(1,4):\n",
    "        for k in range(1,4):\n",
    "            print(f\"{(i,j,k)} : {int(eps(i,j,k))}\")"
   ]
  },
  {
   "cell_type": "code",
   "execution_count": 58,
   "id": "39dcf4c8-275d-48ff-830a-2648993e9a5e",
   "metadata": {},
   "outputs": [
    {
     "name": "stdout",
     "output_type": "stream",
     "text": [
      "\\varepsilon_{1,j,k}\\varepsilon_{1,\\ell,m} = \\begin{cases}\n",
      "\\varepsilon_{1,2,3}\\varepsilon_{1,2,3}&=1\\\\\n",
      "\\varepsilon_{1,2,3}\\varepsilon_{1,3,2}&=-1\\\\\n",
      "\\varepsilon_{1,3,2}\\varepsilon_{1,2,3}&=-1\\\\\n",
      "\\varepsilon_{1,3,2}\\varepsilon_{1,3,2}&=1\\\\\n",
      "\\end{cases}\n",
      "\\varepsilon_{2,j,k}\\varepsilon_{2,\\ell,m} = \\begin{cases}\n",
      "\\varepsilon_{2,1,3}\\varepsilon_{2,1,3}&=1\\\\\n",
      "\\varepsilon_{2,1,3}\\varepsilon_{2,3,1}&=-1\\\\\n",
      "\\varepsilon_{2,3,1}\\varepsilon_{2,1,3}&=-1\\\\\n",
      "\\varepsilon_{2,3,1}\\varepsilon_{2,3,1}&=1\\\\\n",
      "\\end{cases}\n",
      "\\varepsilon_{3,j,k}\\varepsilon_{3,\\ell,m} = \\begin{cases}\n",
      "\\varepsilon_{3,1,2}\\varepsilon_{3,1,2}&=1\\\\\n",
      "\\varepsilon_{3,1,2}\\varepsilon_{3,2,1}&=-1\\\\\n",
      "\\varepsilon_{3,2,1}\\varepsilon_{3,1,2}&=-1\\\\\n",
      "\\varepsilon_{3,2,1}\\varepsilon_{3,2,1}&=1\\\\\n",
      "\\end{cases}\n"
     ]
    }
   ],
   "source": [
    "for i in [1,2,3]:\n",
    "    print(\"\\\\varepsilon_{\"+str(i)+\",j,k}\\\\varepsilon_{\"+str(i)+\",\\ell,m} = \\\\begin{cases}\")\n",
    "    for j in range(1,4):\n",
    "        for k in range(1,4):\n",
    "            for m in range(1,4):\n",
    "                for n in range(1,4):\n",
    "                    res = int(eps(i,j,k)*eps(i,m,n))\n",
    "                    if(res): print(r\"\\varepsilon_{\"+f\"{i},{j},{k}\"+r\"}\\varepsilon_{\"+f\"{i},{m},{n}\"+\"}\"+f\"&={res}\\\\\\\\\")\n",
    "    print(\"\\\\end{cases}\")\n",
    "            "
   ]
  },
  {
   "cell_type": "code",
   "execution_count": 107,
   "id": "648a969b-2959-4073-8891-6368eb1b7a18",
   "metadata": {},
   "outputs": [
    {
     "name": "stdout",
     "output_type": "stream",
     "text": [
      "\\begin{equation}\\begin{aligned}\n",
      "&&\\varepsilon_{1,1,1}\\varepsilon_{1,1,1}=0&&\\varepsilon_{2,1,1}\\varepsilon_{2,1,1}=0&&\\varepsilon_{3,1,1}\\varepsilon_{3,1,1}=0&&\\varepsilon_{1,1,1}\\varepsilon_{1,1,2}=0&&\\varepsilon_{2,1,1}\\varepsilon_{2,1,2}=0&&\\varepsilon_{3,1,1}\\varepsilon_{3,1,2}=0\\\\\n",
      "&&\\varepsilon_{1,1,1}\\varepsilon_{1,1,3}=0&&\\varepsilon_{2,1,1}\\varepsilon_{2,1,3}=0&&\\varepsilon_{3,1,1}\\varepsilon_{3,1,3}=0&&\\varepsilon_{1,1,1}\\varepsilon_{1,2,1}=0&&\\varepsilon_{2,1,1}\\varepsilon_{2,2,1}=0&&\\varepsilon_{3,1,1}\\varepsilon_{3,2,1}=0\\\\\n",
      "&&\\varepsilon_{1,1,1}\\varepsilon_{1,2,2}=0&&\\varepsilon_{2,1,1}\\varepsilon_{2,2,2}=0&&\\varepsilon_{3,1,1}\\varepsilon_{3,2,2}=0&&\\varepsilon_{1,1,1}\\varepsilon_{1,2,3}=0&&\\varepsilon_{2,1,1}\\varepsilon_{2,2,3}=0&&\\varepsilon_{3,1,1}\\varepsilon_{3,2,3}=0\\\\\n",
      "&&\\varepsilon_{1,1,1}\\varepsilon_{1,3,1}=0&&\\varepsilon_{2,1,1}\\varepsilon_{2,3,1}=0&&\\varepsilon_{3,1,1}\\varepsilon_{3,3,1}=0&&\\varepsilon_{1,1,1}\\varepsilon_{1,3,2}=0&&\\varepsilon_{2,1,1}\\varepsilon_{2,3,2}=0&&\\varepsilon_{3,1,1}\\varepsilon_{3,3,2}=0\\\\\n",
      "&&\\varepsilon_{1,1,1}\\varepsilon_{1,3,3}=0&&\\varepsilon_{2,1,1}\\varepsilon_{2,3,3}=0&&\\varepsilon_{3,1,1}\\varepsilon_{3,3,3}=0&&\\varepsilon_{1,1,2}\\varepsilon_{1,1,1}=0&&\\varepsilon_{2,1,2}\\varepsilon_{2,1,1}=0&&\\varepsilon_{3,1,2}\\varepsilon_{3,1,1}=0\\\\\n",
      "&&\\varepsilon_{1,1,2}\\varepsilon_{1,1,2}=0&&\\varepsilon_{2,1,2}\\varepsilon_{2,1,2}=0&&{\\color{red}\\varepsilon_{3,1,2}\\varepsilon_{3,1,2}=1}\n",
      "&&\\varepsilon_{1,1,2}\\varepsilon_{1,1,3}=0&&\\varepsilon_{2,1,2}\\varepsilon_{2,1,3}=0&&\\varepsilon_{3,1,2}\\varepsilon_{3,1,3}=0\\\\\n",
      "&&\\varepsilon_{1,1,2}\\varepsilon_{1,2,1}=0&&\\varepsilon_{2,1,2}\\varepsilon_{2,2,1}=0&&{\\color{red}\\varepsilon_{3,1,2}\\varepsilon_{3,2,1}=-1}\n",
      "&&\\varepsilon_{1,1,2}\\varepsilon_{1,2,2}=0&&\\varepsilon_{2,1,2}\\varepsilon_{2,2,2}=0&&\\varepsilon_{3,1,2}\\varepsilon_{3,2,2}=0\\\\\n",
      "&&\\varepsilon_{1,1,2}\\varepsilon_{1,2,3}=0&&\\varepsilon_{2,1,2}\\varepsilon_{2,2,3}=0&&\\varepsilon_{3,1,2}\\varepsilon_{3,2,3}=0&&\\varepsilon_{1,1,2}\\varepsilon_{1,3,1}=0&&\\varepsilon_{2,1,2}\\varepsilon_{2,3,1}=0&&\\varepsilon_{3,1,2}\\varepsilon_{3,3,1}=0\\\\\n",
      "&&\\varepsilon_{1,1,2}\\varepsilon_{1,3,2}=0&&\\varepsilon_{2,1,2}\\varepsilon_{2,3,2}=0&&\\varepsilon_{3,1,2}\\varepsilon_{3,3,2}=0&&\\varepsilon_{1,1,2}\\varepsilon_{1,3,3}=0&&\\varepsilon_{2,1,2}\\varepsilon_{2,3,3}=0&&\\varepsilon_{3,1,2}\\varepsilon_{3,3,3}=0\\\\\n",
      "&&\\varepsilon_{1,1,3}\\varepsilon_{1,1,1}=0&&\\varepsilon_{2,1,3}\\varepsilon_{2,1,1}=0&&\\varepsilon_{3,1,3}\\varepsilon_{3,1,1}=0&&\\varepsilon_{1,1,3}\\varepsilon_{1,1,2}=0&&\\varepsilon_{2,1,3}\\varepsilon_{2,1,2}=0&&\\varepsilon_{3,1,3}\\varepsilon_{3,1,2}=0\\\\\n",
      "&&\\varepsilon_{1,1,3}\\varepsilon_{1,1,3}=0&&{\\color{red}\\varepsilon_{2,1,3}\\varepsilon_{2,1,3}=1}\n",
      "&&\\varepsilon_{3,1,3}\\varepsilon_{3,1,3}=0&&\\varepsilon_{1,1,3}\\varepsilon_{1,2,1}=0&&\\varepsilon_{2,1,3}\\varepsilon_{2,2,1}=0&&\\varepsilon_{3,1,3}\\varepsilon_{3,2,1}=0\\\\\n",
      "&&\\varepsilon_{1,1,3}\\varepsilon_{1,2,2}=0&&\\varepsilon_{2,1,3}\\varepsilon_{2,2,2}=0&&\\varepsilon_{3,1,3}\\varepsilon_{3,2,2}=0&&\\varepsilon_{1,1,3}\\varepsilon_{1,2,3}=0&&\\varepsilon_{2,1,3}\\varepsilon_{2,2,3}=0&&\\varepsilon_{3,1,3}\\varepsilon_{3,2,3}=0\\\\\n",
      "&&\\varepsilon_{1,1,3}\\varepsilon_{1,3,1}=0&&{\\color{red}\\varepsilon_{2,1,3}\\varepsilon_{2,3,1}=-1}\n",
      "&&\\varepsilon_{3,1,3}\\varepsilon_{3,3,1}=0&&\\varepsilon_{1,1,3}\\varepsilon_{1,3,2}=0&&\\varepsilon_{2,1,3}\\varepsilon_{2,3,2}=0&&\\varepsilon_{3,1,3}\\varepsilon_{3,3,2}=0\\\\\n",
      "&&\\varepsilon_{1,1,3}\\varepsilon_{1,3,3}=0&&\\varepsilon_{2,1,3}\\varepsilon_{2,3,3}=0&&\\varepsilon_{3,1,3}\\varepsilon_{3,3,3}=0&&\\varepsilon_{1,2,1}\\varepsilon_{1,1,1}=0&&\\varepsilon_{2,2,1}\\varepsilon_{2,1,1}=0&&\\varepsilon_{3,2,1}\\varepsilon_{3,1,1}=0\\\\\n",
      "&&\\varepsilon_{1,2,1}\\varepsilon_{1,1,2}=0&&\\varepsilon_{2,2,1}\\varepsilon_{2,1,2}=0&&{\\color{red}\\varepsilon_{3,2,1}\\varepsilon_{3,1,2}=-1}\n",
      "&&\\varepsilon_{1,2,1}\\varepsilon_{1,1,3}=0&&\\varepsilon_{2,2,1}\\varepsilon_{2,1,3}=0&&\\varepsilon_{3,2,1}\\varepsilon_{3,1,3}=0\\\\\n",
      "&&\\varepsilon_{1,2,1}\\varepsilon_{1,2,1}=0&&\\varepsilon_{2,2,1}\\varepsilon_{2,2,1}=0&&{\\color{red}\\varepsilon_{3,2,1}\\varepsilon_{3,2,1}=1}\n",
      "&&\\varepsilon_{1,2,1}\\varepsilon_{1,2,2}=0&&\\varepsilon_{2,2,1}\\varepsilon_{2,2,2}=0&&\\varepsilon_{3,2,1}\\varepsilon_{3,2,2}=0\\\\\n",
      "&&\\varepsilon_{1,2,1}\\varepsilon_{1,2,3}=0&&\\varepsilon_{2,2,1}\\varepsilon_{2,2,3}=0&&\\varepsilon_{3,2,1}\\varepsilon_{3,2,3}=0&&\\varepsilon_{1,2,1}\\varepsilon_{1,3,1}=0&&\\varepsilon_{2,2,1}\\varepsilon_{2,3,1}=0&&\\varepsilon_{3,2,1}\\varepsilon_{3,3,1}=0\\\\\n",
      "&&\\varepsilon_{1,2,1}\\varepsilon_{1,3,2}=0&&\\varepsilon_{2,2,1}\\varepsilon_{2,3,2}=0&&\\varepsilon_{3,2,1}\\varepsilon_{3,3,2}=0&&\\varepsilon_{1,2,1}\\varepsilon_{1,3,3}=0&&\\varepsilon_{2,2,1}\\varepsilon_{2,3,3}=0&&\\varepsilon_{3,2,1}\\varepsilon_{3,3,3}=0\\\\\n",
      "&&\\varepsilon_{1,2,2}\\varepsilon_{1,1,1}=0&&\\varepsilon_{2,2,2}\\varepsilon_{2,1,1}=0&&\\varepsilon_{3,2,2}\\varepsilon_{3,1,1}=0&&\\varepsilon_{1,2,2}\\varepsilon_{1,1,2}=0&&\\varepsilon_{2,2,2}\\varepsilon_{2,1,2}=0&&\\varepsilon_{3,2,2}\\varepsilon_{3,1,2}=0\\\\\n",
      "&&\\varepsilon_{1,2,2}\\varepsilon_{1,1,3}=0&&\\varepsilon_{2,2,2}\\varepsilon_{2,1,3}=0&&\\varepsilon_{3,2,2}\\varepsilon_{3,1,3}=0&&\\varepsilon_{1,2,2}\\varepsilon_{1,2,1}=0&&\\varepsilon_{2,2,2}\\varepsilon_{2,2,1}=0&&\\varepsilon_{3,2,2}\\varepsilon_{3,2,1}=0\\\\\n",
      "&&\\varepsilon_{1,2,2}\\varepsilon_{1,2,2}=0&&\\varepsilon_{2,2,2}\\varepsilon_{2,2,2}=0&&\\varepsilon_{3,2,2}\\varepsilon_{3,2,2}=0&&\\varepsilon_{1,2,2}\\varepsilon_{1,2,3}=0&&\\varepsilon_{2,2,2}\\varepsilon_{2,2,3}=0&&\\varepsilon_{3,2,2}\\varepsilon_{3,2,3}=0\\\\\n",
      "&&\\varepsilon_{1,2,2}\\varepsilon_{1,3,1}=0&&\\varepsilon_{2,2,2}\\varepsilon_{2,3,1}=0&&\\varepsilon_{3,2,2}\\varepsilon_{3,3,1}=0&&\\varepsilon_{1,2,2}\\varepsilon_{1,3,2}=0&&\\varepsilon_{2,2,2}\\varepsilon_{2,3,2}=0&&\\varepsilon_{3,2,2}\\varepsilon_{3,3,2}=0\\\\\n",
      "&&\\varepsilon_{1,2,2}\\varepsilon_{1,3,3}=0&&\\varepsilon_{2,2,2}\\varepsilon_{2,3,3}=0&&\\varepsilon_{3,2,2}\\varepsilon_{3,3,3}=0&&\\varepsilon_{1,2,3}\\varepsilon_{1,1,1}=0&&\\varepsilon_{2,2,3}\\varepsilon_{2,1,1}=0&&\\varepsilon_{3,2,3}\\varepsilon_{3,1,1}=0\\\\\n",
      "&&\\varepsilon_{1,2,3}\\varepsilon_{1,1,2}=0&&\\varepsilon_{2,2,3}\\varepsilon_{2,1,2}=0&&\\varepsilon_{3,2,3}\\varepsilon_{3,1,2}=0&&\\varepsilon_{1,2,3}\\varepsilon_{1,1,3}=0&&\\varepsilon_{2,2,3}\\varepsilon_{2,1,3}=0&&\\varepsilon_{3,2,3}\\varepsilon_{3,1,3}=0\\\\\n",
      "&&\\varepsilon_{1,2,3}\\varepsilon_{1,2,1}=0&&\\varepsilon_{2,2,3}\\varepsilon_{2,2,1}=0&&\\varepsilon_{3,2,3}\\varepsilon_{3,2,1}=0&&\\varepsilon_{1,2,3}\\varepsilon_{1,2,2}=0&&\\varepsilon_{2,2,3}\\varepsilon_{2,2,2}=0&&\\varepsilon_{3,2,3}\\varepsilon_{3,2,2}=0\\\\\n",
      "&&{\\color{red}\\varepsilon_{1,2,3}\\varepsilon_{1,2,3}=1}\n",
      "&&\\varepsilon_{2,2,3}\\varepsilon_{2,2,3}=0&&\\varepsilon_{3,2,3}\\varepsilon_{3,2,3}=0&&\\varepsilon_{1,2,3}\\varepsilon_{1,3,1}=0&&\\varepsilon_{2,2,3}\\varepsilon_{2,3,1}=0&&\\varepsilon_{3,2,3}\\varepsilon_{3,3,1}=0\\\\\n",
      "&&{\\color{red}\\varepsilon_{1,2,3}\\varepsilon_{1,3,2}=-1}\n",
      "&&\\varepsilon_{2,2,3}\\varepsilon_{2,3,2}=0&&\\varepsilon_{3,2,3}\\varepsilon_{3,3,2}=0&&\\varepsilon_{1,2,3}\\varepsilon_{1,3,3}=0&&\\varepsilon_{2,2,3}\\varepsilon_{2,3,3}=0&&\\varepsilon_{3,2,3}\\varepsilon_{3,3,3}=0\\\\\n",
      "&&\\varepsilon_{1,3,1}\\varepsilon_{1,1,1}=0&&\\varepsilon_{2,3,1}\\varepsilon_{2,1,1}=0&&\\varepsilon_{3,3,1}\\varepsilon_{3,1,1}=0&&\\varepsilon_{1,3,1}\\varepsilon_{1,1,2}=0&&\\varepsilon_{2,3,1}\\varepsilon_{2,1,2}=0&&\\varepsilon_{3,3,1}\\varepsilon_{3,1,2}=0\\\\\n",
      "&&\\varepsilon_{1,3,1}\\varepsilon_{1,1,3}=0&&{\\color{red}\\varepsilon_{2,3,1}\\varepsilon_{2,1,3}=-1}\n",
      "&&\\varepsilon_{3,3,1}\\varepsilon_{3,1,3}=0&&\\varepsilon_{1,3,1}\\varepsilon_{1,2,1}=0&&\\varepsilon_{2,3,1}\\varepsilon_{2,2,1}=0&&\\varepsilon_{3,3,1}\\varepsilon_{3,2,1}=0\\\\\n",
      "&&\\varepsilon_{1,3,1}\\varepsilon_{1,2,2}=0&&\\varepsilon_{2,3,1}\\varepsilon_{2,2,2}=0&&\\varepsilon_{3,3,1}\\varepsilon_{3,2,2}=0&&\\varepsilon_{1,3,1}\\varepsilon_{1,2,3}=0&&\\varepsilon_{2,3,1}\\varepsilon_{2,2,3}=0&&\\varepsilon_{3,3,1}\\varepsilon_{3,2,3}=0\\\\\n",
      "&&\\varepsilon_{1,3,1}\\varepsilon_{1,3,1}=0&&{\\color{red}\\varepsilon_{2,3,1}\\varepsilon_{2,3,1}=1}\n",
      "&&\\varepsilon_{3,3,1}\\varepsilon_{3,3,1}=0&&\\varepsilon_{1,3,1}\\varepsilon_{1,3,2}=0&&\\varepsilon_{2,3,1}\\varepsilon_{2,3,2}=0&&\\varepsilon_{3,3,1}\\varepsilon_{3,3,2}=0\\\\\n",
      "&&\\varepsilon_{1,3,1}\\varepsilon_{1,3,3}=0&&\\varepsilon_{2,3,1}\\varepsilon_{2,3,3}=0&&\\varepsilon_{3,3,1}\\varepsilon_{3,3,3}=0&&\\varepsilon_{1,3,2}\\varepsilon_{1,1,1}=0&&\\varepsilon_{2,3,2}\\varepsilon_{2,1,1}=0&&\\varepsilon_{3,3,2}\\varepsilon_{3,1,1}=0\\\\\n",
      "&&\\varepsilon_{1,3,2}\\varepsilon_{1,1,2}=0&&\\varepsilon_{2,3,2}\\varepsilon_{2,1,2}=0&&\\varepsilon_{3,3,2}\\varepsilon_{3,1,2}=0&&\\varepsilon_{1,3,2}\\varepsilon_{1,1,3}=0&&\\varepsilon_{2,3,2}\\varepsilon_{2,1,3}=0&&\\varepsilon_{3,3,2}\\varepsilon_{3,1,3}=0\\\\\n",
      "&&\\varepsilon_{1,3,2}\\varepsilon_{1,2,1}=0&&\\varepsilon_{2,3,2}\\varepsilon_{2,2,1}=0&&\\varepsilon_{3,3,2}\\varepsilon_{3,2,1}=0&&\\varepsilon_{1,3,2}\\varepsilon_{1,2,2}=0&&\\varepsilon_{2,3,2}\\varepsilon_{2,2,2}=0&&\\varepsilon_{3,3,2}\\varepsilon_{3,2,2}=0\\\\\n",
      "&&{\\color{red}\\varepsilon_{1,3,2}\\varepsilon_{1,2,3}=-1}\n",
      "&&\\varepsilon_{2,3,2}\\varepsilon_{2,2,3}=0&&\\varepsilon_{3,3,2}\\varepsilon_{3,2,3}=0&&\\varepsilon_{1,3,2}\\varepsilon_{1,3,1}=0&&\\varepsilon_{2,3,2}\\varepsilon_{2,3,1}=0&&\\varepsilon_{3,3,2}\\varepsilon_{3,3,1}=0\\\\\n",
      "&&{\\color{red}\\varepsilon_{1,3,2}\\varepsilon_{1,3,2}=1}\n",
      "&&\\varepsilon_{2,3,2}\\varepsilon_{2,3,2}=0&&\\varepsilon_{3,3,2}\\varepsilon_{3,3,2}=0&&\\varepsilon_{1,3,2}\\varepsilon_{1,3,3}=0&&\\varepsilon_{2,3,2}\\varepsilon_{2,3,3}=0&&\\varepsilon_{3,3,2}\\varepsilon_{3,3,3}=0\\\\\n",
      "&&\\varepsilon_{1,3,3}\\varepsilon_{1,1,1}=0&&\\varepsilon_{2,3,3}\\varepsilon_{2,1,1}=0&&\\varepsilon_{3,3,3}\\varepsilon_{3,1,1}=0&&\\varepsilon_{1,3,3}\\varepsilon_{1,1,2}=0&&\\varepsilon_{2,3,3}\\varepsilon_{2,1,2}=0&&\\varepsilon_{3,3,3}\\varepsilon_{3,1,2}=0\\\\\n",
      "&&\\varepsilon_{1,3,3}\\varepsilon_{1,1,3}=0&&\\varepsilon_{2,3,3}\\varepsilon_{2,1,3}=0&&\\varepsilon_{3,3,3}\\varepsilon_{3,1,3}=0&&\\varepsilon_{1,3,3}\\varepsilon_{1,2,1}=0&&\\varepsilon_{2,3,3}\\varepsilon_{2,2,1}=0&&\\varepsilon_{3,3,3}\\varepsilon_{3,2,1}=0\\\\\n",
      "&&\\varepsilon_{1,3,3}\\varepsilon_{1,2,2}=0&&\\varepsilon_{2,3,3}\\varepsilon_{2,2,2}=0&&\\varepsilon_{3,3,3}\\varepsilon_{3,2,2}=0&&\\varepsilon_{1,3,3}\\varepsilon_{1,2,3}=0&&\\varepsilon_{2,3,3}\\varepsilon_{2,2,3}=0&&\\varepsilon_{3,3,3}\\varepsilon_{3,2,3}=0\\\\\n",
      "&&\\varepsilon_{1,3,3}\\varepsilon_{1,3,1}=0&&\\varepsilon_{2,3,3}\\varepsilon_{2,3,1}=0&&\\varepsilon_{3,3,3}\\varepsilon_{3,3,1}=0&&\\varepsilon_{1,3,3}\\varepsilon_{1,3,2}=0&&\\varepsilon_{2,3,3}\\varepsilon_{2,3,2}=0&&\\varepsilon_{3,3,3}\\varepsilon_{3,3,2}=0\\\\\n",
      "&&\\varepsilon_{1,3,3}\\varepsilon_{1,3,3}=0&&\\varepsilon_{2,3,3}\\varepsilon_{2,3,3}=0&&\\varepsilon_{3,3,3}\\varepsilon_{3,3,3}=0\\end{aligned}\\end{equation}\n"
     ]
    }
   ],
   "source": [
    "i = 1\n",
    "num = 0\n",
    "col = 6\n",
    "print(\"\\\\begin{equation}\\\\begin{aligned}\")\n",
    "for j in range(1,4):\n",
    "    for k in range(1,4):\n",
    "        for m in range(1,4):\n",
    "            for n in range(1,4):\n",
    "                for i in range(1,4):\n",
    "                    num+=1\n",
    "                    res = int(eps(i,j,k)*eps(i,m,n))\n",
    "                    if res: print(\"&&{\\\\color{red}\",end=\"\")\n",
    "                    else: print(\"&&\",end=\"\")\n",
    "                    print(\"\\\\varepsilon_{\"+f\"{i},{j},{k}\"+r\"}\\varepsilon_{\"+f\"{i},{m},{n}\"+\"}\"+f\"={res}\",end=\"\")\n",
    "                    if res: print(\"}\")\n",
    "                    if not num%col:\n",
    "                        print(\"\\\\\\\\\")\n",
    "print(\"\\\\end{aligned}\\\\end{equation}\")"
   ]
  },
  {
   "cell_type": "code",
   "execution_count": 88,
   "id": "6bfba243-85de-4e18-a70d-1d33470d1f75",
   "metadata": {},
   "outputs": [
    {
     "data": {
      "text/plain": [
       "81"
      ]
     },
     "execution_count": 88,
     "metadata": {},
     "output_type": "execute_result"
    }
   ],
   "source": [
    "num"
   ]
  }
 ],
 "metadata": {
  "kernelspec": {
   "display_name": "Python 3 (ipykernel)",
   "language": "python",
   "name": "python3"
  },
  "language_info": {
   "codemirror_mode": {
    "name": "ipython",
    "version": 3
   },
   "file_extension": ".py",
   "mimetype": "text/x-python",
   "name": "python",
   "nbconvert_exporter": "python",
   "pygments_lexer": "ipython3",
   "version": "3.9.6"
  }
 },
 "nbformat": 4,
 "nbformat_minor": 5
}
