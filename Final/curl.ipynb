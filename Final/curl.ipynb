{
 "cells": [
  {
   "cell_type": "code",
   "execution_count": 1,
   "id": "72a2cb0c-2ed5-4007-b7fd-b43400480a3f",
   "metadata": {},
   "outputs": [],
   "source": [
    "from sympy import *"
   ]
  },
  {
   "cell_type": "code",
   "execution_count": 7,
   "id": "ff2a7864-6946-4c30-906f-40b97ff2a7fb",
   "metadata": {},
   "outputs": [],
   "source": [
    "x, y = symbols(\"x,y\")"
   ]
  },
  {
   "cell_type": "code",
   "execution_count": 12,
   "id": "40faece4-881b-437d-a7b5-8d5a16dbf0ef",
   "metadata": {},
   "outputs": [
    {
     "data": {
      "text/latex": [
       "$\\displaystyle \\left[\\begin{matrix}-1\\\\0\\end{matrix}\\right]$"
      ],
      "text/plain": [
       "Matrix([\n",
       "[-1],\n",
       "[ 0]])"
      ]
     },
     "metadata": {},
     "output_type": "display_data"
    },
    {
     "data": {
      "text/latex": [
       "$\\displaystyle 1$"
      ],
      "text/plain": [
       "1"
      ]
     },
     "metadata": {},
     "output_type": "display_data"
    },
    {
     "data": {
      "text/latex": [
       "$\\displaystyle -1$"
      ],
      "text/plain": [
       "-1"
      ]
     },
     "metadata": {},
     "output_type": "display_data"
    },
    {
     "data": {
      "text/latex": [
       "$\\displaystyle 2$"
      ],
      "text/plain": [
       "2"
      ]
     },
     "metadata": {},
     "output_type": "display_data"
    }
   ],
   "source": [
    "u = Matrix([-y, x])\n",
    "display(u.diff(y))\n",
    "display(u[1].diff(x))\n",
    "display(u[0].diff(y))\n",
    "display(u[1].diff(x) - u[0].diff(y))"
   ]
  },
  {
   "cell_type": "code",
   "execution_count": 23,
   "id": "effef23d-929b-4ee5-b1a4-33a299cacfd7",
   "metadata": {},
   "outputs": [
    {
     "data": {
      "text/latex": [
       "$\\displaystyle \\left[\\begin{matrix}- \\frac{x^{2}}{\\left(x^{2} + y^{2}\\right)^{\\frac{3}{2}}}\\\\- \\frac{x y}{\\left(x^{2} + y^{2}\\right)^{\\frac{3}{2}}}\\end{matrix}\\right]$"
      ],
      "text/plain": [
       "Matrix([\n",
       "[-x**2/(x**2 + y**2)**(3/2)],\n",
       "[ -x*y/(x**2 + y**2)**(3/2)]])"
      ]
     },
     "metadata": {},
     "output_type": "display_data"
    },
    {
     "data": {
      "text/latex": [
       "$\\displaystyle \\frac{y^{2}}{\\left(x^{2} + y^{2}\\right)^{\\frac{3}{2}}}$"
      ],
      "text/plain": [
       "y**2/(x**2 + y**2)**(3/2)"
      ]
     },
     "metadata": {},
     "output_type": "display_data"
    },
    {
     "data": {
      "text/latex": [
       "$\\displaystyle - \\frac{x^{2}}{\\left(x^{2} + y^{2}\\right)^{\\frac{3}{2}}}$"
      ],
      "text/plain": [
       "-x**2/(x**2 + y**2)**(3/2)"
      ]
     },
     "metadata": {},
     "output_type": "display_data"
    },
    {
     "data": {
      "text/latex": [
       "$\\displaystyle \\frac{1}{\\sqrt{x^{2} + y^{2}}}$"
      ],
      "text/plain": [
       "1/sqrt(x**2 + y**2)"
      ]
     },
     "metadata": {},
     "output_type": "display_data"
    }
   ],
   "source": [
    "u = Matrix([-y, x])/sqrt(x**2+y**2)\n",
    "display(simplify(u.diff(y)))\n",
    "display(simplify(u[1].diff(x)))\n",
    "display(simplify(u[0].diff(y)))\n",
    "display(simplify(u[1].diff(x) - u[0].diff(y)))"
   ]
  },
  {
   "cell_type": "code",
   "execution_count": 27,
   "id": "050440e8-2822-462a-ac30-19e9f2e9a787",
   "metadata": {},
   "outputs": [
    {
     "data": {
      "text/latex": [
       "$\\displaystyle \\frac{y^{2}}{\\left(x^{2} + y^{2}\\right)^{\\frac{3}{2}}}$"
      ],
      "text/plain": [
       "y**2/(x**2 + y**2)**(3/2)"
      ]
     },
     "execution_count": 27,
     "metadata": {},
     "output_type": "execute_result"
    }
   ],
   "source": [
    "(x/sqrt(x**2+y**2)).diff(x).simplify()"
   ]
  },
  {
   "cell_type": "code",
   "execution_count": 28,
   "id": "d99125a5-41ec-4006-a294-1d1809b59ee8",
   "metadata": {},
   "outputs": [
    {
     "data": {
      "text/latex": [
       "$\\displaystyle \\frac{y^{2}}{\\left(x^{2} + y^{2}\\right)^{\\frac{3}{2}}}$"
      ],
      "text/plain": [
       "y**2/(x**2 + y**2)**(3/2)"
      ]
     },
     "metadata": {},
     "output_type": "display_data"
    },
    {
     "data": {
      "text/latex": [
       "$\\displaystyle \\frac{1}{\\sqrt{y^{2}}}$"
      ],
      "text/plain": [
       "1/sqrt(y**2)"
      ]
     },
     "metadata": {},
     "output_type": "display_data"
    }
   ],
   "source": [
    "display(simplify(u[1].diff(x)))\n",
    "display(simplify(u[1].diff(x).subs(x,0)))"
   ]
  },
  {
   "cell_type": "code",
   "execution_count": 21,
   "id": "cc185714-ab1e-4759-9129-daea0cf636b5",
   "metadata": {},
   "outputs": [
    {
     "data": {
      "text/latex": [
       "$\\displaystyle \\left[\\begin{matrix}\\frac{- x^{2} + y^{2}}{\\left(x^{2} + y^{2}\\right)^{2}}\\\\- \\frac{2 x y}{\\left(x^{2} + y^{2}\\right)^{2}}\\end{matrix}\\right]$"
      ],
      "text/plain": [
       "Matrix([\n",
       "[(-x**2 + y**2)/(x**2 + y**2)**2],\n",
       "[        -2*x*y/(x**2 + y**2)**2]])"
      ]
     },
     "metadata": {},
     "output_type": "display_data"
    },
    {
     "data": {
      "text/latex": [
       "$\\displaystyle \\frac{- x^{2} + y^{2}}{x^{4} + 2 x^{2} y^{2} + y^{4}}$"
      ],
      "text/plain": [
       "(-x**2 + y**2)/(x**4 + 2*x**2*y**2 + y**4)"
      ]
     },
     "metadata": {},
     "output_type": "display_data"
    },
    {
     "data": {
      "text/latex": [
       "$\\displaystyle \\frac{- x^{2} + y^{2}}{\\left(x^{2} + y^{2}\\right)^{2}}$"
      ],
      "text/plain": [
       "(-x**2 + y**2)/(x**2 + y**2)**2"
      ]
     },
     "metadata": {},
     "output_type": "display_data"
    },
    {
     "data": {
      "text/latex": [
       "$\\displaystyle 0$"
      ],
      "text/plain": [
       "0"
      ]
     },
     "metadata": {},
     "output_type": "display_data"
    }
   ],
   "source": [
    "u = Matrix([-y, x])/(x**2+y**2)\n",
    "display(simplify(u.diff(y)))\n",
    "display(simplify(u[1].diff(x)))\n",
    "display(simplify(u[0].diff(y)))\n",
    "display(simplify(u[1].diff(x) - u[0].diff(y)))"
   ]
  }
 ],
 "metadata": {
  "kernelspec": {
   "display_name": "Python 3 (ipykernel)",
   "language": "python",
   "name": "python3"
  },
  "language_info": {
   "codemirror_mode": {
    "name": "ipython",
    "version": 3
   },
   "file_extension": ".py",
   "mimetype": "text/x-python",
   "name": "python",
   "nbconvert_exporter": "python",
   "pygments_lexer": "ipython3",
   "version": "3.9.6"
  }
 },
 "nbformat": 4,
 "nbformat_minor": 5
}
